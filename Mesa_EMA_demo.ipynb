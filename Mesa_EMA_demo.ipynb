{
 "cells": [
  {
   "cell_type": "markdown",
   "metadata": {},
   "source": [
    "### EMA imports"
   ]
  },
  {
   "cell_type": "code",
   "execution_count": null,
   "metadata": {},
   "outputs": [],
   "source": [
    "%matplotlib inline\n",
    "\n",
    "import numpy as np\n",
    "import pandas as pd\n",
    "import matplotlib.pyplot as plt\n",
    "import seaborn as sns\n",
    "import datetime\n",
    "from ema_workbench import (ReplicatorModel, RealParameter, BooleanParameter, IntegerParameter, \n",
    "Constant, TimeSeriesOutcome, perform_experiments, save_results, ema_logging)\n",
    "\n",
    "ema_logging.log_to_stderr(ema_logging.INFO)"
   ]
  },
  {
   "cell_type": "markdown",
   "metadata": {},
   "source": [
    "### Define Mesa model"
   ]
  },
  {
   "cell_type": "code",
   "execution_count": null,
   "metadata": {},
   "outputs": [],
   "source": [
    "def model_virus_on_network(num_nodes=1, \n",
    "                            avg_node_degree=1, \n",
    "                            initial_outbreak_size=1, \n",
    "                            virus_spread_chance=1, \n",
    "                            virus_check_frequency=1, \n",
    "                            recovery_chance=1, \n",
    "                            gain_resistance_chance=1,\n",
    "                            steps=10):\n",
    "    \n",
    "    from virus_on_network import model\n",
    "    \n",
    "    virus_on_network = model.VirusOnNetwork(num_nodes=num_nodes, \n",
    "                                avg_node_degree=avg_node_degree, \n",
    "                                initial_outbreak_size=initial_outbreak_size, \n",
    "                                virus_spread_chance=virus_spread_chance, \n",
    "                                virus_check_frequency=virus_check_frequency, \n",
    "                                recovery_chance=recovery_chance, \n",
    "                                gain_resistance_chance=gain_resistance_chance)\n",
    "    \n",
    "    virus_on_network.run_model(steps)\n",
    "    outcomes = virus_on_network.datacollector.get_model_vars_dataframe()\n",
    "    \n",
    "    return {'TIME':list(range(steps + 1)),\n",
    "        \"Infected\": outcomes[\"Infected\"].tolist(),\n",
    "            \"Susceptible\": outcomes[\"Susceptible\"].tolist(),\n",
    "            \"Resistant\": outcomes[\"Resistant\"].tolist()}\n",
    "    "
   ]
  },
  {
   "cell_type": "markdown",
   "metadata": {},
   "source": [
    "### Test Mesa model"
   ]
  },
  {
   "cell_type": "code",
   "execution_count": null,
   "metadata": {},
   "outputs": [],
   "source": [
    "model_virus_on_network(num_nodes=20, \n",
    "                            avg_node_degree=3, \n",
    "                            initial_outbreak_size=1, \n",
    "                            virus_spread_chance=0.4, \n",
    "                            virus_check_frequency=0.2, \n",
    "                            recovery_chance=0.4, \n",
    "                            gain_resistance_chance=0.3,\n",
    "                            steps=10)"
   ]
  },
  {
   "cell_type": "markdown",
   "metadata": {},
   "source": [
    "### Design EMA experiments"
   ]
  },
  {
   "cell_type": "code",
   "execution_count": null,
   "metadata": {},
   "outputs": [],
   "source": [
    "model = ReplicatorModel('virusnetwork', function=model_virus_on_network)"
   ]
  },
  {
   "cell_type": "code",
   "execution_count": null,
   "metadata": {},
   "outputs": [],
   "source": [
    "model.uncertainties = [IntegerParameter(\"num_nodes\", 10, 100),\n",
    "                       IntegerParameter(\"avg_node_degree\", 2, 8),\n",
    "                        RealParameter(\"virus_spread_chance\", 0.1, 1),\n",
    "                        RealParameter(\"virus_check_frequency\", 0.1, 1),\n",
    "                        RealParameter(\"recovery_chance\", 0.1, 1),\n",
    "                        RealParameter(\"gain_resistance_chance\", 0.1, 1)]"
   ]
  },
  {
   "cell_type": "code",
   "execution_count": null,
   "metadata": {},
   "outputs": [],
   "source": [
    "model.constants = [Constant(\"initial_outbreak_size\", 1),\n",
    "                  Constant('steps', 50)]"
   ]
  },
  {
   "cell_type": "code",
   "execution_count": null,
   "metadata": {},
   "outputs": [],
   "source": [
    "model.outcomes = [TimeSeriesOutcome('TIME'),\n",
    "                TimeSeriesOutcome('Infected'),\n",
    "                 TimeSeriesOutcome('Susceptible'),\n",
    "                 TimeSeriesOutcome('Resistant')]"
   ]
  },
  {
   "cell_type": "code",
   "execution_count": null,
   "metadata": {},
   "outputs": [],
   "source": [
    "model.replications = 10"
   ]
  },
  {
   "cell_type": "markdown",
   "metadata": {},
   "source": [
    "### Perform EMA experiments"
   ]
  },
  {
   "cell_type": "code",
   "execution_count": null,
   "metadata": {},
   "outputs": [],
   "source": [
    "results = perform_experiments(model, 100)\n",
    "\n",
    "experiments, outcomes = results"
   ]
  },
  {
   "cell_type": "markdown",
   "metadata": {},
   "source": [
    "### Process outcomes"
   ]
  },
  {
   "cell_type": "code",
   "execution_count": null,
   "metadata": {},
   "outputs": [],
   "source": [
    "import random"
   ]
  },
  {
   "cell_type": "code",
   "execution_count": null,
   "metadata": {},
   "outputs": [],
   "source": [
    "outcomes[random.choice(list(outcomes))].shape"
   ]
  },
  {
   "cell_type": "code",
   "execution_count": null,
   "metadata": {},
   "outputs": [],
   "source": [
    "#get shape of every outcome (should all be identical?)\n",
    "# for k in list(outcomes):\n",
    "#     print(outcomes[k].shape)"
   ]
  },
  {
   "cell_type": "code",
   "execution_count": null,
   "metadata": {},
   "outputs": [],
   "source": [
    "outcomes_2D = {key:np.mean(outcomes[key],axis=1) for key in outcomes.keys()}\n",
    "results_2D = (experiments.copy(), outcomes_2D)"
   ]
  },
  {
   "cell_type": "code",
   "execution_count": null,
   "metadata": {},
   "outputs": [],
   "source": [
    "outcomes_2D[random.choice(list(outcomes))].shape"
   ]
  },
  {
   "cell_type": "markdown",
   "metadata": {},
   "source": [
    "### Visualize outcomes"
   ]
  },
  {
   "cell_type": "code",
   "execution_count": null,
   "metadata": {},
   "outputs": [],
   "source": [
    "from ema_workbench.analysis.plotting import lines"
   ]
  },
  {
   "cell_type": "code",
   "execution_count": null,
   "metadata": {},
   "outputs": [],
   "source": [
    "plt.rcParams['figure.figsize'] = [10, 12]\n",
    "\n",
    "figure = lines(experiments, outcomes_2D) #show lines, and end state density\n",
    "plt.show()"
   ]
  }
 ],
 "metadata": {
  "kernelspec": {
   "display_name": "Python 3",
   "language": "python",
   "name": "python3"
  },
  "language_info": {
   "codemirror_mode": {
    "name": "ipython",
    "version": 3
   },
   "file_extension": ".py",
   "mimetype": "text/x-python",
   "name": "python",
   "nbconvert_exporter": "python",
   "pygments_lexer": "ipython3",
   "version": "3.8.6"
  }
 },
 "nbformat": 4,
 "nbformat_minor": 4
}
