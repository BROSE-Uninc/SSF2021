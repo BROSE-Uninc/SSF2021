{
 "cells": [
  {
   "cell_type": "markdown",
   "metadata": {},
   "source": [
    "### EMA imports"
   ]
  },
  {
   "cell_type": "code",
   "execution_count": null,
   "metadata": {},
   "outputs": [],
   "source": [
    "%matplotlib inline\n",
    "\n",
    "import numpy as np\n",
    "import pandas as pd\n",
    "import matplotlib.pyplot as plt\n",
    "import seaborn as sns\n",
    "import datetime\n",
    "from ema_workbench import (ReplicatorModel, RealParameter, BooleanParameter, IntegerParameter, \n",
    "Constant, TimeSeriesOutcome, perform_experiments, save_results, ema_logging)\n",
    "\n",
    "ema_logging.log_to_stderr(ema_logging.INFO)"
   ]
  },
  {
   "cell_type": "markdown",
   "metadata": {},
   "source": [
    "### Define Mesa model"
   ]
  },
  {
   "cell_type": "code",
   "execution_count": null,
   "metadata": {},
   "outputs": [],
   "source": [
    "def model_virus_on_network(num_nodes=1, \n",
    "                            avg_node_degree=1, \n",
    "                            initial_outbreak_size=1, \n",
    "                            virus_spread_chance=1, \n",
    "                            virus_check_frequency=1, \n",
    "                            recovery_chance=1, \n",
    "                            gain_resistance_chance=1,\n",
    "                            steps=10):\n",
    "    \n",
    "    from virus_on_network import model\n",
    "    \n",
    "    virus_on_network = model.VirusOnNetwork(num_nodes=num_nodes, \n",
    "                                avg_node_degree=avg_node_degree, \n",
    "                                initial_outbreak_size=initial_outbreak_size, \n",
    "                                virus_spread_chance=virus_spread_chance, \n",
    "                                virus_check_frequency=virus_check_frequency, \n",
    "                                recovery_chance=recovery_chance, \n",
    "                                gain_resistance_chance=gain_resistance_chance)\n",
    "    \n",
    "    virus_on_network.run_model(steps)\n",
    "    outcomes = virus_on_network.datacollector.get_model_vars_dataframe()\n",
    "    \n",
    "    return {'TIME':list(range(steps + 1)),\n",
    "        \"Infected\": outcomes[\"Infected\"].tolist(),\n",
    "            \"Susceptible\": outcomes[\"Susceptible\"].tolist(),\n",
    "            \"Resistant\": outcomes[\"Resistant\"].tolist()}\n",
    "    "
   ]
  },
  {
   "cell_type": "markdown",
   "metadata": {},
   "source": [
    "### Test Mesa model"
   ]
  },
  {
   "cell_type": "code",
   "execution_count": null,
   "metadata": {},
   "outputs": [],
   "source": [
    "model_virus_on_network(num_nodes=20, \n",
    "                            avg_node_degree=3, \n",
    "                            initial_outbreak_size=1, \n",
    "                            virus_spread_chance=0.4, \n",
    "                            virus_check_frequency=0.2, \n",
    "                            recovery_chance=0.4, \n",
    "                            gain_resistance_chance=0.3,\n",
    "                            steps=10)"
   ]
  },
  {
   "cell_type": "markdown",
   "metadata": {},
   "source": [
    "### Design EMA experiments"
   ]
  },
  {
   "cell_type": "code",
   "execution_count": null,
   "metadata": {},
   "outputs": [],
   "source": [
    "model = ReplicatorModel('virusnetwork', function=model_virus_on_network)"
   ]
  },
  {
   "cell_type": "code",
   "execution_count": null,
   "metadata": {},
   "outputs": [],
   "source": [
    "model.uncertainties = [IntegerParameter(\"num_nodes\", 10, 100),\n",
    "                       IntegerParameter(\"avg_node_degree\", 2, 8),\n",
    "                        RealParameter(\"virus_spread_chance\", 0.1, 1),\n",
    "                        RealParameter(\"virus_check_frequency\", 0.1, 1),\n",
    "                        RealParameter(\"recovery_chance\", 0.1, 1),\n",
    "                        RealParameter(\"gain_resistance_chance\", 0.1, 1)]"
   ]
  },
  {
   "cell_type": "code",
   "execution_count": null,
   "metadata": {},
   "outputs": [],
   "source": [
    "model.constants = [Constant(\"initial_outbreak_size\", 1),\n",
    "                  Constant('steps', 30)]"
   ]
  },
  {
   "cell_type": "code",
   "execution_count": null,
   "metadata": {},
   "outputs": [],
   "source": [
    "model.outcomes = [TimeSeriesOutcome('TIME'),\n",
    "                TimeSeriesOutcome('Infected'),\n",
    "                 TimeSeriesOutcome('Susceptible'),\n",
    "                 TimeSeriesOutcome('Resistant')]"
   ]
  },
  {
   "cell_type": "code",
   "execution_count": null,
   "metadata": {},
   "outputs": [],
   "source": [
    "model.replications = 10"
   ]
  },
  {
   "cell_type": "markdown",
   "metadata": {},
   "source": [
    "### Perform EMA experiments"
   ]
  },
  {
   "cell_type": "code",
   "execution_count": null,
   "metadata": {},
   "outputs": [],
   "source": [
    "results = perform_experiments(model, 100)\n",
    "\n",
    "experiments, outcomes = results"
   ]
  },
  {
   "cell_type": "markdown",
   "metadata": {},
   "source": [
    "### Process outcomes"
   ]
  },
  {
   "cell_type": "code",
   "execution_count": null,
   "metadata": {},
   "outputs": [],
   "source": [
    "import random"
   ]
  },
  {
   "cell_type": "code",
   "execution_count": null,
   "metadata": {},
   "outputs": [],
   "source": [
    "outcomes[random.choice(list(outcomes))].shape"
   ]
  },
  {
   "cell_type": "code",
   "execution_count": null,
   "metadata": {},
   "outputs": [],
   "source": [
    "#get shape of every outcome (should all be identical?)\n",
    "# for k in list(outcomes):\n",
    "#     print(outcomes[k].shape)"
   ]
  },
  {
   "cell_type": "code",
   "execution_count": null,
   "metadata": {},
   "outputs": [],
   "source": [
    "outcomes_2D = {key:np.mean(outcomes[key],axis=1) for key in outcomes.keys()}\n",
    "results_2D = (experiments.copy(), outcomes_2D)"
   ]
  },
  {
   "cell_type": "code",
   "execution_count": null,
   "metadata": {},
   "outputs": [],
   "source": [
    "outcomes_2D[random.choice(list(outcomes))].shape"
   ]
  },
  {
   "cell_type": "markdown",
   "metadata": {},
   "source": [
    "### Visualize outcomes"
   ]
  },
  {
   "cell_type": "code",
   "execution_count": null,
   "metadata": {},
   "outputs": [],
   "source": [
    "from ema_workbench.analysis.plotting import lines"
   ]
  },
  {
   "cell_type": "code",
   "execution_count": null,
   "metadata": {},
   "outputs": [],
   "source": [
    "plt.rcParams['figure.figsize'] = [10, 12]\n",
    "\n",
    "figure = lines(experiments, outcomes_2D) #show lines, and end state density\n",
    "plt.show()"
   ]
  },
  {
   "cell_type": "markdown",
   "metadata": {},
   "source": [
    "### Sensitivity analysis"
   ]
  },
  {
   "cell_type": "code",
   "execution_count": null,
   "metadata": {},
   "outputs": [],
   "source": [
    "from SALib.analyze import sobol\n",
    "from ema_workbench.em_framework.salib_samplers import get_SALib_problem\n",
    "\n",
    "sa_results = perform_experiments(model, scenarios=100, uncertainty_sampling='sobol')\n",
    "\n",
    "sa_experiments, sa_outcomes = sa_results"
   ]
  },
  {
   "cell_type": "markdown",
   "metadata": {},
   "source": [
    "##### Sample size for Sobol\n",
    "To calculate first-order, second-order and total sensitivity indices, \n",
    "this gives a sample size of n(2p+2), where p is the number of input parameters, \n",
    "and n is a baseline sample size which should be large enough to stabilize the estimation of the indices.\n",
    "from https://pynetlogo.readthedocs.io/en/latest/_docs/SALib_ipyparallel.html#Using-SALib-for-sensitivity-analysis"
   ]
  },
  {
   "cell_type": "code",
   "execution_count": null,
   "metadata": {},
   "outputs": [],
   "source": [
    "sa_outcomes_2D = {key:np.mean(sa_outcomes[key],axis=1) for key in sa_outcomes.keys()}\n",
    "sa_results_2D = (sa_experiments.copy(), sa_outcomes_2D)"
   ]
  },
  {
   "cell_type": "code",
   "execution_count": null,
   "metadata": {},
   "outputs": [],
   "source": [
    "normalized_resistant = (sa_outcomes_2D['Resistant'][:,-1] / sa_experiments['num_nodes']).to_numpy()\n",
    "normalized_resistant"
   ]
  },
  {
   "cell_type": "code",
   "execution_count": null,
   "metadata": {},
   "outputs": [],
   "source": [
    "sa_problem = get_SALib_problem(model.uncertainties)\n",
    "Si = sobol.analyze(sa_problem, normalized_resistant,\n",
    "                   calc_second_order=True, print_to_console=False)"
   ]
  },
  {
   "cell_type": "code",
   "execution_count": null,
   "metadata": {},
   "outputs": [],
   "source": [
    "scores_filtered = {k:Si[k] for k in ['ST','ST_conf','S1','S1_conf']}\n",
    "Si_df = pd.DataFrame(scores_filtered, index=sa_problem['names'])\n",
    "\n",
    "sns.set_style('white')\n",
    "fig, ax = plt.subplots(1)\n",
    "\n",
    "indices = Si_df[['S1','ST']]\n",
    "err = Si_df[['S1_conf','ST_conf']]\n",
    "\n",
    "indices.plot.bar(yerr=err.values.T,ax=ax)\n",
    "fig.set_size_inches(8,6)\n",
    "fig.subplots_adjust(bottom=0.3)\n",
    "plt.show()"
   ]
  },
  {
   "cell_type": "code",
   "execution_count": null,
   "metadata": {},
   "outputs": [],
   "source": [
    "Si_filter = {k:Si[k] for k in ['ST','ST_conf','S1','S1_conf']}\n",
    "Si_df = pd.DataFrame(Si_filter, index=sa_problem['names'])"
   ]
  },
  {
   "cell_type": "code",
   "execution_count": null,
   "metadata": {},
   "outputs": [],
   "source": [
    "Si_df"
   ]
  },
  {
   "cell_type": "code",
   "execution_count": null,
   "metadata": {},
   "outputs": [],
   "source": [
    "#modified from https://pynetlogo.readthedocs.io/en/latest/_docs/SALib_ipyparallel.html#Using-SALib-for-sensitivity-analysis\n",
    "import itertools\n",
    "from math import pi\n",
    "\n",
    "\n",
    "def normalize(x, xmin, xmax):\n",
    "    return (x-xmin)/(xmax-xmin)\n",
    "\n",
    "\n",
    "def plot_circles(ax, locs, names, max_s, stats, smax, smin, fc, ec, lw,\n",
    "                 zorder):\n",
    "    s = np.asarray([stats[name] for name in names])\n",
    "    s = 0.01 + max_s * np.sqrt(normalize(s, smin, smax))\n",
    "\n",
    "    fill = True\n",
    "    for loc, name, si in zip(locs, names, s):\n",
    "        if fc=='w':\n",
    "            fill=False\n",
    "        else:\n",
    "            ec='none'\n",
    "\n",
    "        x = np.cos(loc)\n",
    "        y = np.sin(loc)\n",
    "\n",
    "        circle = plt.Circle((x,y), radius=si, ec=ec, fc=fc, transform=ax.transData._b,\n",
    "                            zorder=zorder, lw=lw, fill=True)\n",
    "        ax.add_artist(circle)\n",
    "\n",
    "\n",
    "def filter(sobol_indices, names, locs, criterion, threshold):\n",
    "    if criterion in ['ST', 'S1', 'S2']:\n",
    "        data = sobol_indices[criterion]\n",
    "        data = np.abs(data)\n",
    "        data = data.flatten() # flatten in case of S2\n",
    "        # TODO:: remove nans\n",
    "\n",
    "        filtered = ([(name, locs[i]) for i, name in enumerate(names) if\n",
    "                     data[i]>threshold])\n",
    "        filtered_names, filtered_locs = zip(*filtered)\n",
    "    elif criterion in ['ST_conf', 'S1_conf', 'S2_conf']:\n",
    "        raise NotImplementedError\n",
    "    else:\n",
    "        raise ValueError('unknown value for criterion')\n",
    "\n",
    "    return filtered_names, filtered_locs\n",
    "\n",
    "\n",
    "def plot_sobol_indices(sobol_indices, criterion='ST', threshold=0.01):\n",
    "    '''plot sobol indices on a radial plot\n",
    "\n",
    "    Parameters\n",
    "    ----------\n",
    "    sobol_indices : dict\n",
    "                    the return from SAlib\n",
    "    criterion : {'ST', 'S1', 'S2', 'ST_conf', 'S1_conf', 'S2_conf'}, optional\n",
    "    threshold : float\n",
    "                only visualize variables with criterion larger than cutoff\n",
    "\n",
    "    '''\n",
    "    max_linewidth_s2 = 15#25*1.8\n",
    "    max_s_radius = 0.3\n",
    "\n",
    "    # prepare data\n",
    "    # use the absolute values of all the indices\n",
    "    #sobol_indices = {key:np.abs(stats) for key, stats in sobol_indices.items()}\n",
    "\n",
    "    # dataframe with ST and S1\n",
    "    sobol_stats = {key:sobol_indices[key] for key in ['ST', 'S1']}\n",
    "    sobol_stats = pd.DataFrame(sobol_stats, index=sa_problem['names'])\n",
    "\n",
    "    smax = sobol_stats.max().max()\n",
    "    smin = sobol_stats.min().min()\n",
    "\n",
    "    # dataframe with s2\n",
    "    s2 = pd.DataFrame(sobol_indices['S2'], index=sa_problem['names'],\n",
    "                      columns=sa_problem['names'])\n",
    "    s2[s2<0.0]=0. #Set negative values to 0 (artifact from small sample sizes)\n",
    "    s2max = s2.max().max()\n",
    "    s2min = s2.min().min()\n",
    "\n",
    "    names = sa_problem['names']\n",
    "    n = len(names)\n",
    "    ticklocs = np.linspace(0, 2*pi, n+1)\n",
    "    locs = ticklocs[0:-1]\n",
    "\n",
    "    filtered_names, filtered_locs = filter(sobol_indices, names, locs,\n",
    "                                           criterion, threshold)\n",
    "\n",
    "    # setup figure\n",
    "    fig = plt.figure()\n",
    "    ax = fig.add_subplot(111, polar=True)\n",
    "    ax.grid(False)\n",
    "    ax.spines['polar'].set_visible(False)\n",
    "    ax.set_xticks(locs) #steipatr, changed from ticklocs\n",
    "\n",
    "    ax.set_xticklabels(names)\n",
    "    ax.set_yticklabels([])\n",
    "    ax.set_ylim(top=1.4)\n",
    "    legend(ax)\n",
    "\n",
    "    # plot ST\n",
    "    plot_circles(ax, filtered_locs, filtered_names, max_s_radius,\n",
    "                 sobol_stats['ST'], smax, smin, 'w', 'k', 1, 9)\n",
    "\n",
    "    # plot S1\n",
    "    plot_circles(ax, filtered_locs, filtered_names, max_s_radius,\n",
    "                 sobol_stats['S1'], smax, smin, 'k', 'k', 1, 10)\n",
    "\n",
    "    # plot S2\n",
    "    for name1, name2 in itertools.combinations(zip(filtered_names, filtered_locs), 2):\n",
    "        name1, loc1 = name1\n",
    "        name2, loc2 = name2 #steipatr, added to bugfix\n",
    "        \n",
    "        weight = s2.loc[name1, name2]\n",
    "        lw = 0.5+max_linewidth_s2*normalize(weight, s2min, s2max)\n",
    "        ax.plot([loc1, loc2], [1,1], c='darkgray', lw=lw, zorder=1)\n",
    "\n",
    "    return fig\n",
    "\n",
    "\n",
    "from matplotlib.legend_handler import HandlerPatch\n",
    "class HandlerCircle(HandlerPatch):\n",
    "    def create_artists(self, legend, orig_handle,\n",
    "                       xdescent, ydescent, width, height, fontsize, trans):\n",
    "        center = 0.5 * width - 0.5 * xdescent, 0.5 * height - 0.5 * ydescent\n",
    "        p = plt.Circle(xy=center, radius=orig_handle.radius)\n",
    "        self.update_prop(p, orig_handle, legend)\n",
    "        p.set_transform(trans)\n",
    "        return [p]\n",
    "\n",
    "def legend(ax):\n",
    "    some_identifiers = [plt.Circle((0,0), radius=5, color='k', fill=False, lw=1),\n",
    "                        plt.Circle((0,0), radius=5, color='k', fill=True),\n",
    "                        plt.Line2D([0,0.5], [0,0.5], lw=8, color='darkgray')]\n",
    "    ax.legend(some_identifiers, ['ST', 'S1', 'S2'],\n",
    "              loc=(1,0.75), borderaxespad=0.1, mode='expand',\n",
    "              handler_map={plt.Circle: HandlerCircle()})"
   ]
  },
  {
   "cell_type": "code",
   "execution_count": null,
   "metadata": {},
   "outputs": [],
   "source": [
    "sns.set_style('whitegrid')\n",
    "fig = plot_sobol_indices(Si, criterion='ST', threshold=0.005)\n",
    "fig.set_size_inches(7,7)\n",
    "plt.show()"
   ]
  }
 ],
 "metadata": {
  "kernelspec": {
   "display_name": "Python 3",
   "language": "python",
   "name": "python3"
  },
  "language_info": {
   "codemirror_mode": {
    "name": "ipython",
    "version": 3
   },
   "file_extension": ".py",
   "mimetype": "text/x-python",
   "name": "python",
   "nbconvert_exporter": "python",
   "pygments_lexer": "ipython3",
   "version": "3.8.6"
  }
 },
 "nbformat": 4,
 "nbformat_minor": 4
}
